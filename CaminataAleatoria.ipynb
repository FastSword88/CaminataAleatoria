{
  "nbformat": 4,
  "nbformat_minor": 0,
  "metadata": {
    "colab": {
      "provenance": []
    },
    "kernelspec": {
      "name": "python3",
      "display_name": "Python 3"
    },
    "language_info": {
      "name": "python"
    }
  },
  "cells": [
    {
      "cell_type": "markdown",
      "source": [
        "##Realizar un programa que calcule la probabilidad condicional de ir del estado x al estado y en n periodos de tiempo utilizando el vector π^n."
      ],
      "metadata": {
        "id": "34qmJ9S5K5Ej"
      }
    },
    {
      "cell_type": "markdown",
      "source": [
        "#Importamos las librerias a usar:"
      ],
      "metadata": {
        "id": "8X_5H4oVLMWy"
      }
    },
    {
      "cell_type": "code",
      "execution_count": null,
      "metadata": {
        "id": "65l5Yq2SuLr1"
      },
      "outputs": [],
      "source": [
        "import numpy as np\n",
        "import matplotlib.pyplot as plt"
      ]
    },
    {
      "cell_type": "markdown",
      "source": [
        "#Definimos las variables a usar:"
      ],
      "metadata": {
        "id": "UcsMz2ImLWR0"
      }
    },
    {
      "cell_type": "code",
      "source": [
        "estados = int(input(\"Cuantos estados deseas insertar? (recuerda que se cuenta el estado 0)\"))"
      ],
      "metadata": {
        "colab": {
          "base_uri": "https://localhost:8080/"
        },
        "id": "bItI1VGKuWf-",
        "outputId": "bf5949a1-d107-4743-ef93-d8cf2650446a"
      },
      "execution_count": null,
      "outputs": [
        {
          "name": "stdout",
          "output_type": "stream",
          "text": [
            "Cuantos estados deseas insertar? (recuerda que se cuenta el estado 0)3\n"
          ]
        }
      ]
    },
    {
      "cell_type": "code",
      "source": [
        "estados = estados + 1"
      ],
      "metadata": {
        "id": "3Cgt9KFeuvG-"
      },
      "execution_count": null,
      "outputs": []
    },
    {
      "cell_type": "markdown",
      "source": [
        "##Creamos la matriz de transicion vacia de tamaño nxn que sera llenada por el usuario:"
      ],
      "metadata": {
        "id": "MOxTHSKlLhUe"
      }
    },
    {
      "cell_type": "code",
      "source": [
        "matriz_transicion = np.empty((estados, estados))"
      ],
      "metadata": {
        "id": "ZfqCqqhhu40-"
      },
      "execution_count": null,
      "outputs": []
    },
    {
      "cell_type": "markdown",
      "source": [
        "#Se le pedira al usuario proporcionar los datos de la matriz:"
      ],
      "metadata": {
        "id": "bRJ-STkZL4_c"
      }
    },
    {
      "cell_type": "code",
      "source": [
        "print(\"A continuacion ingrese los datos correspondientes a la matriz de transicion.\\n\")\n",
        "for i in range(estados):\n",
        "  # Primero pediremos los elementos de la fila como una cadena de texto para facilitar la captura de datos\n",
        "  fila = input(f\"Ingrese los {estados} elementos de la fila {i+1}, separados por espacios \").split()\n",
        "  # Convertiremos la cadena de texto en numeros enteros\n",
        "  matriz_transicion[i] = [float(elemento) for elemento in fila]"
      ],
      "metadata": {
        "colab": {
          "base_uri": "https://localhost:8080/"
        },
        "id": "DdF2KomNvs9W",
        "outputId": "7bd9c17c-0156-4f34-b305-9637ae1fd768"
      },
      "execution_count": null,
      "outputs": [
        {
          "name": "stdout",
          "output_type": "stream",
          "text": [
            "A continuacion ingrese los datos correspondientes a la matriz de transicion.\n",
            "\n",
            "Ingrese los 4 elementos de la fila 1, separados por espacios 0.9 0.1 0 0\n",
            "Ingrese los 4 elementos de la fila 2, separados por espacios 0 0.6 0.2 0.2\n",
            "Ingrese los 4 elementos de la fila 3, separados por espacios 0 0.1 0.9 0\n",
            "Ingrese los 4 elementos de la fila 4, separados por espacios 0 0.2 0 0.8\n"
          ]
        }
      ]
    },
    {
      "cell_type": "code",
      "source": [
        "# Le mostramos la matriz al usuario\n",
        "print(\"La matriz ingresada es: \")\n",
        "print(matriz_transicion)"
      ],
      "metadata": {
        "colab": {
          "base_uri": "https://localhost:8080/"
        },
        "id": "_uxYYPGuwGBH",
        "outputId": "71dbcb7f-cec3-4dbb-91c4-ae292164c918"
      },
      "execution_count": null,
      "outputs": [
        {
          "output_type": "stream",
          "name": "stdout",
          "text": [
            "La matriz ingresada es: \n",
            "[[0.9 0.1 0.  0. ]\n",
            " [0.  0.6 0.2 0.2]\n",
            " [0.  0.1 0.9 0. ]\n",
            " [0.  0.2 0.  0.8]]\n"
          ]
        }
      ]
    },
    {
      "cell_type": "markdown",
      "source": [
        "## Ahora pediremos el estado inicial y el estado final:\n",
        "\n"
      ],
      "metadata": {
        "id": "6UwX4A4CJwit"
      }
    },
    {
      "cell_type": "code",
      "source": [
        "inicial = int(input(\"Ingrese el estado inicial [ejemplo en caso de ser el estado inicial 2 se generara el vector (0, 0, 2, ..., n) debido a que el 0 se cuenta]\"))"
      ],
      "metadata": {
        "colab": {
          "base_uri": "https://localhost:8080/"
        },
        "id": "6J47ieZbw2hp",
        "outputId": "fc6d066f-744c-4aa6-b130-3eab6cd65a4c"
      },
      "execution_count": null,
      "outputs": [
        {
          "name": "stdout",
          "output_type": "stream",
          "text": [
            "Ingrese el estado inicial [ejemplo en caso de ser el estado inicial 2 se generara el vector (0, 0, 2, ..., n) debido a que el 0 se cuenta]3\n"
          ]
        }
      ]
    },
    {
      "cell_type": "code",
      "source": [
        "final = int(input(\"Ingrese el estado final [el estado 0 se cuenta]\"))"
      ],
      "metadata": {
        "colab": {
          "base_uri": "https://localhost:8080/"
        },
        "id": "C9n7ZYcvyMJo",
        "outputId": "058f22df-98c5-4147-91eb-ceb03114268b"
      },
      "execution_count": null,
      "outputs": [
        {
          "name": "stdout",
          "output_type": "stream",
          "text": [
            "Ingrese el estado final [el estado 0 se cuenta]2\n"
          ]
        }
      ]
    },
    {
      "cell_type": "markdown",
      "source": [
        "## Aqui la nos genera el vector π0 a partir de los datos anteriores:"
      ],
      "metadata": {
        "id": "AOOPw4UuMmFQ"
      }
    },
    {
      "cell_type": "code",
      "source": [
        "vector0 = [0] * (estados)\n",
        "vector0[inicial] = 1\n",
        "print(\"El vector pi_0 es:\", tuple(vector0))"
      ],
      "metadata": {
        "colab": {
          "base_uri": "https://localhost:8080/"
        },
        "id": "eVnKh84Xx25Q",
        "outputId": "de594285-4940-4bb3-cafb-95a0b54f2e56"
      },
      "execution_count": null,
      "outputs": [
        {
          "output_type": "stream",
          "name": "stdout",
          "text": [
            "El vector pi_0 es: (0, 0, 0, 1)\n"
          ]
        }
      ]
    },
    {
      "cell_type": "markdown",
      "source": [
        "## Pedimos en número de tiempos a recorrer:"
      ],
      "metadata": {
        "id": "FfzXLPOzNIRr"
      }
    },
    {
      "cell_type": "code",
      "source": [
        "tiempo = int(input(\"Cuantos tiempos vas a recorrer?\"))"
      ],
      "metadata": {
        "colab": {
          "base_uri": "https://localhost:8080/"
        },
        "id": "vIkKBgIs12fo",
        "outputId": "15fd23cb-b230-4257-db07-6a77d26f9caa"
      },
      "execution_count": null,
      "outputs": [
        {
          "name": "stdout",
          "output_type": "stream",
          "text": [
            "Cuantos tiempos vas a recorrer?3\n"
          ]
        }
      ]
    },
    {
      "cell_type": "markdown",
      "source": [
        "## Con los datos anteriores, el programa emepezara a hacer los calculos para obtener el vector πn:"
      ],
      "metadata": {
        "id": "J5PwBVV8Nnny"
      }
    },
    {
      "cell_type": "code",
      "source": [
        "for i in range(tiempo):\n",
        "  vector0 = np.dot(vector0, matriz_transicion)"
      ],
      "metadata": {
        "id": "zrTus2Po2B1Y"
      },
      "execution_count": null,
      "outputs": []
    },
    {
      "cell_type": "code",
      "source": [
        "probabilidadfinal = round(vector0[final], 4)"
      ],
      "metadata": {
        "id": "s8DnCfBF2RdK"
      },
      "execution_count": null,
      "outputs": []
    },
    {
      "cell_type": "markdown",
      "source": [
        "## Despues de obtener πn, nos da la probabilidad solicitada por el usuario:"
      ],
      "metadata": {
        "id": "8Lq0IocjN9Bs"
      }
    },
    {
      "cell_type": "code",
      "source": [
        "print(\"La probabilidad es: \", probabilidadfinal)"
      ],
      "metadata": {
        "colab": {
          "base_uri": "https://localhost:8080/"
        },
        "id": "xSJgXiBx2ymi",
        "outputId": "a3ead080-c522-4783-a6b4-5741a236d7da"
      },
      "execution_count": null,
      "outputs": [
        {
          "output_type": "stream",
          "name": "stdout",
          "text": [
            "La probabilidad es:  0.092\n"
          ]
        }
      ]
    }
  ]
}